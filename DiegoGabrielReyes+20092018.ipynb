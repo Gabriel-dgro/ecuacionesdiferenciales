{
 "cells": [
  {
   "cell_type": "markdown",
   "metadata": {},
   "source": [
    "# Clase de Integradores Simples\n",
    "\n",
    "## Gabriel Reyes   Fecha: 20/09/2018\n",
    "\n",
    "Metodos numericos para resolucion de ecuaciones diferenciales, metodo de Euler y luego el metodo de Runge-Kutta\n",
    "\n",
    "(Latex). Para escritura matematica en latex marcamos con $$ lo que queremos que se escriba de forma matematica.\n",
    "\n",
    "$$\n",
    "\\begin{equation}\n",
    "\\begin{cases}\n",
    "\\dot{y}(t) & = & f(y,t), \\\\\n",
    "y(0) & = & y_{0},\n",
    "\\end{cases}\n",
    "\\end{equation}\n",
    "$$\n",
    "\n",
    "donde $y(t)\\equiv y$ es un vector n-dimensional y $y_0$ es el valor inicial\n",
    "\n",
    "## Integradores Simples\n",
    "\n",
    "Discretizar el tiempo $t$ 4 metodos de integracion \"simples\" que resuelven el problema.\n",
    "    1. Aplicando la regla rectangular (directa o hacia adelante) Euler Explicito \n",
    "$$\n",
    "y_{n+1}=y_{n}+f(y_{n},t_{n})\\Delta t+\\mathscr{O}(\\Delta t^2)\n",
    "$$\n",
    "    \n",
    "    2. Aplicando la regla retangular (indirecta) Euler implicito \n",
    "    \n",
    "    \n",
    "    3. La regla rectangular central (Rutina del Salto de Rana)\n",
    "$$\n",
    "y_{n+1/2}\n",
    "$$\n",
    "    \n",
    "    4. Metodo del trapezio. Metodo de series de Taylor para metodo de Euler y el de Runge Kutta\n",
    "    "
   ]
  },
  {
   "cell_type": "code",
   "execution_count": null,
   "metadata": {
    "collapsed": true
   },
   "outputs": [],
   "source": []
  }
 ],
 "metadata": {
  "kernelspec": {
   "display_name": "Python 3",
   "language": "python",
   "name": "python3"
  },
  "language_info": {
   "codemirror_mode": {
    "name": "ipython",
    "version": 3
   },
   "file_extension": ".py",
   "mimetype": "text/x-python",
   "name": "python",
   "nbconvert_exporter": "python",
   "pygments_lexer": "ipython3",
   "version": "3.6.3"
  }
 },
 "nbformat": 4,
 "nbformat_minor": 2
}
